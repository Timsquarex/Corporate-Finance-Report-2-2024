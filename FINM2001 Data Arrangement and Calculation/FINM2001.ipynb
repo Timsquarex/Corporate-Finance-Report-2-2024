{
 "cells": [
  {
   "cell_type": "code",
   "execution_count": 1,
   "metadata": {},
   "outputs": [],
   "source": [
    "import pandas as pd"
   ]
  },
  {
   "cell_type": "markdown",
   "metadata": {},
   "source": [
    "1ai. Average Return of the Index (ASX)\n",
    "- Calculate each month returns\n",
    "- Calculate the average monthly return \n"
   ]
  },
  {
   "cell_type": "code",
   "execution_count": 2,
   "metadata": {},
   "outputs": [
    {
     "name": "stdout",
     "output_type": "stream",
     "text": [
      "          Date   Price    Open\n",
      "0   07/01/2024  8012.2  8013.8\n",
      "1   06/01/2024  8013.8  7970.8\n",
      "2   05/01/2024  7970.8  7932.0\n",
      "3   04/01/2024  7932.0  8153.7\n",
      "4   03/01/2024  8153.7  7959.5\n",
      "..         ...     ...     ...\n",
      "81  10/01/2017  5976.4  5744.9\n",
      "82  09/01/2017  5744.9  5776.3\n",
      "83  08/01/2017  5776.3  5773.9\n",
      "84  07/01/2017  5773.9  5764.0\n",
      "85  06/01/2017  5764.0  5761.3\n",
      "\n",
      "[86 rows x 3 columns]\n"
     ]
    }
   ],
   "source": [
    "ASX_monthly = pd.read_csv(\"ASX All Ordinaries Historical Data_monthly.csv\")\n",
    "ASX_monthly = pd.DataFrame(ASX_monthly)\n",
    "\n",
    "#TimeFrame: 1/7/2017 ~ 1/7/2024\n",
    "ASX_monthly_timeframe = ASX_monthly.head(86)\n",
    "\n",
    "ASX_current_month = ASX_monthly_timeframe.loc[:,[\"Date\",\"Price\", \"Open\"]]\n",
    "ASX_last_month = ASX_monthly_timeframe.loc[:,[\"Date\", \"Price\", \"Open\"]].shift(periods=-1)\n",
    "\n",
    "ASX_last_month = ASX_last_month.dropna()\n",
    "print(ASX_current_month)"
   ]
  },
  {
   "cell_type": "code",
   "execution_count": 3,
   "metadata": {},
   "outputs": [
    {
     "name": "stdout",
     "output_type": "stream",
     "text": [
      "Average Monthly Return of the Index: 0.0048758157668621314\n",
      "Average Monthly Return of the Index (%): 0.48758157668621316 %\n"
     ]
    }
   ],
   "source": [
    "#Calculation\n",
    "ASX_current_month = ASX_current_month[['Open']]\n",
    "ASX_last_month = ASX_last_month[['Open']]\n",
    "\n",
    "ASX_monthly_return = (ASX_current_month - ASX_last_month)/ ASX_last_month\n",
    "ASX_monthly_return = ASX_monthly_return.head(85)\n",
    "\n",
    "ASX_total_return = ASX_monthly_return['Open'].sum()\n",
    "Average_Monthly_Return_ASX = ASX_total_return / 85\n",
    "\n",
    "print(\"Average Monthly Return of the Index:\", Average_Monthly_Return_ASX)\n",
    "print(\"Average Monthly Return of the Index (%):\", Average_Monthly_Return_ASX*100,\"%\")"
   ]
  },
  {
   "cell_type": "markdown",
   "metadata": {},
   "source": [
    "1aii. Risk-free Rate\n",
    "- Calculate each month returns \n",
    "- Calculate the average monthly return"
   ]
  },
  {
   "cell_type": "code",
   "execution_count": 4,
   "metadata": {},
   "outputs": [
    {
     "name": "stdout",
     "output_type": "stream",
     "text": [
      "        Date        Open\n",
      "93  6/1/2024  101.959999\n",
      "92  5/1/2024  102.000000\n",
      "91  4/1/2024  106.000000\n",
      "90  3/1/2024  104.599998\n",
      "89  2/1/2024  105.699997\n",
      "..       ...         ...\n",
      "12  9/1/2017  120.940002\n",
      "11  8/1/2017  120.440002\n",
      "10  7/1/2017  120.599998\n",
      "9   6/1/2017  122.320000\n",
      "8       None         NaN\n",
      "\n",
      "[86 rows x 2 columns]\n"
     ]
    }
   ],
   "source": [
    "GSBG33 = pd.read_csv(\"GSBG33.AX24.csv\")\n",
    "GSBG33_flipped = GSBG33.iloc[::-1]\n",
    "GSBG33_flipped = GSBG33_flipped.head(87)\n",
    "GSBG33_flipped = GSBG33_flipped.dropna()\n",
    "\n",
    "GSBG33_current_month = GSBG33_flipped.loc[:,[\"Date\", \"Open\"]]\n",
    "GSBG33_last_month = GSBG33_flipped.loc[:,[\"Date\", \"Open\"]].shift(periods=-1)\n",
    "\n",
    "print(GSBG33_last_month)"
   ]
  },
  {
   "cell_type": "code",
   "execution_count": 5,
   "metadata": {},
   "outputs": [
    {
     "name": "stdout",
     "output_type": "stream",
     "text": [
      "Average Monthly Return Risk-free Rate: -0.0018256510477538054\n",
      "Average Monthly Return Risk-free Rate (%): -0.18256510477538054 %\n"
     ]
    }
   ],
   "source": [
    "#Calculation\n",
    "GSBG33_current_month = GSBG33_current_month[['Open']]\n",
    "GSBG33_last_month = GSBG33_last_month[['Open']]\n",
    "\n",
    "GSBG33_monthly_return = (GSBG33_current_month - GSBG33_last_month) / GSBG33_last_month\n",
    "GSBG33_monthly_return = GSBG33_monthly_return.dropna()\n",
    "\n",
    "GSBG33_total_return = GSBG33_monthly_return['Open'].sum()\n",
    "\n",
    "GSBG_Average_Monthly_Return = GSBG33_total_return / 85\n",
    "print(\"Average Monthly Return Risk-free Rate:\", GSBG_Average_Monthly_Return)\n",
    "print(\"Average Monthly Return Risk-free Rate (%):\", GSBG_Average_Monthly_Return*100,\"%\")"
   ]
  },
  {
   "cell_type": "markdown",
   "metadata": {},
   "source": [
    "1aiii. Risk-free Rate with Coupons\n",
    "- Assumption: Coupons are paid monthly.\n",
    "- Calculate the adjusted risk-free rate (GSBG33 Average Adjusted Monthly Return)"
   ]
  },
  {
   "cell_type": "code",
   "execution_count": 6,
   "metadata": {},
   "outputs": [
    {
     "name": "stdout",
     "output_type": "stream",
     "text": [
      "          Open\n",
      "93  101.959999\n",
      "92  102.000000\n",
      "91  106.000000\n",
      "90  104.599998\n",
      "89  105.699997\n",
      "..         ...\n",
      "13  119.410004\n",
      "12  120.940002\n",
      "11  120.440002\n",
      "10  120.599998\n",
      "9   122.320000\n",
      "\n",
      "[85 rows x 1 columns]\n",
      "          Open\n",
      "93  102.175003\n",
      "92  102.334999\n",
      "91  102.375000\n",
      "90  106.375000\n",
      "89  104.974998\n",
      "..         ...\n",
      "12  119.785004\n",
      "11  121.315002\n",
      "10  120.815002\n",
      "9   120.974998\n",
      "8   122.695000\n",
      "\n",
      "[86 rows x 1 columns]\n"
     ]
    }
   ],
   "source": [
    "#Coupon Rate per annum = 4.5%\n",
    "#Adjustment Method: [(Current Month + Coupon) - Last Month] / Last Month\n",
    "#Coupon per month = 0.375\n",
    "\n",
    "GSBG33_Adjustment = GSBG33_flipped.loc[:,[\"Date\", \"Open\"]]\n",
    "GSBG33_Adjustment = GSBG33_Adjustment[['Open']].add(0.375)\n",
    "\n",
    "GSBG33_last_month = GSBG33_last_month.dropna()\n",
    "\n",
    "print(GSBG33_last_month)\n",
    "print(GSBG33_Adjustment)"
   ]
  },
  {
   "cell_type": "code",
   "execution_count": 7,
   "metadata": {},
   "outputs": [
    {
     "name": "stdout",
     "output_type": "stream",
     "text": [
      "        Open\n",
      "93  0.002109\n",
      "92  0.003284\n",
      "91 -0.034198\n",
      "90  0.016969\n",
      "89 -0.006859\n",
      "..       ...\n",
      "13  0.001382\n",
      "12 -0.009550\n",
      "11  0.007265\n",
      "10  0.001783\n",
      "9  -0.010996\n",
      "\n",
      "[85 rows x 1 columns]\n",
      "        Open\n",
      "93  0.210871\n",
      "92  0.328430\n",
      "91 -3.419811\n",
      "90  1.696943\n",
      "89 -0.685903\n",
      "..       ...\n",
      "13  0.138174\n",
      "12 -0.955017\n",
      "11  0.726503\n",
      "10  0.178279\n",
      "9  -1.099577\n",
      "\n",
      "[85 rows x 1 columns]\n"
     ]
    }
   ],
   "source": [
    "#Calculation\n",
    "GSBG33_adjusted_monthly_return = (GSBG33_Adjustment - GSBG33_last_month) / GSBG33_last_month\n",
    "GSBG33_adjusted_monthly_return = GSBG33_adjusted_monthly_return.dropna().iloc[::-1]\n",
    "print(GSBG33_adjusted_monthly_return)\n",
    "\n",
    "GSBG33_adjusted_monthly_return_percentage = GSBG33_adjusted_monthly_return * 100\n",
    "print(GSBG33_adjusted_monthly_return_percentage)"
   ]
  },
  {
   "cell_type": "code",
   "execution_count": 8,
   "metadata": {},
   "outputs": [
    {
     "name": "stdout",
     "output_type": "stream",
     "text": [
      "Average Adjusted Risk Free Rate in monthly return: 0.0012427141881858773\n",
      "Average Adjusted Risk Free Rate (% in monthly return): 0.12427141881858772 %\n"
     ]
    }
   ],
   "source": [
    "GSBG33_total_adjusted_monthly_return = GSBG33_adjusted_monthly_return['Open'].sum()\n",
    "GSBG33_average_adjusted_monthly_return = GSBG33_total_adjusted_monthly_return / 85\n",
    "\n",
    "print(\"Average Adjusted Risk Free Rate in monthly return:\", GSBG33_average_adjusted_monthly_return)\n",
    "print(\"Average Adjusted Risk Free Rate (% in monthly return):\", GSBG33_average_adjusted_monthly_return*100,\"%\")"
   ]
  },
  {
   "cell_type": "markdown",
   "metadata": {},
   "source": [
    "1aiv. Market Risk Premium\n",
    "- in monthly % return\n",
    "- in annual % return"
   ]
  },
  {
   "cell_type": "markdown",
   "metadata": {},
   "source": [
    "Market Risk Premium (MRP) in monthly % return"
   ]
  },
  {
   "cell_type": "code",
   "execution_count": 9,
   "metadata": {},
   "outputs": [
    {
     "name": "stdout",
     "output_type": "stream",
     "text": [
      "0.36331015786762544\n"
     ]
    }
   ],
   "source": [
    "#Calculation\n",
    "MRP_monthly = (Average_Monthly_Return_ASX - GSBG33_average_adjusted_monthly_return)\n",
    "MRP_monthly_percentage = MRP_monthly * 100\n",
    "print(MRP_monthly_percentage)"
   ]
  },
  {
   "cell_type": "markdown",
   "metadata": {},
   "source": [
    "Market Risk Premium (MRP) in annualise return in %"
   ]
  },
  {
   "cell_type": "code",
   "execution_count": 21,
   "metadata": {},
   "outputs": [
    {
     "name": "stdout",
     "output_type": "stream",
     "text": [
      "0.015014920003394439\n",
      "0.06010462883338086\n",
      "Average Annualised Return of MRP: 0.04508970882998642\n",
      "Average Annuaised Return of MRP (%): 4.508970882998642 %\n"
     ]
    }
   ],
   "source": [
    "risk_free_monthly = GSBG33_average_adjusted_monthly_return\n",
    "risk_free_annualised = ((1+risk_free_monthly)**12) - 1\n",
    "\n",
    "market_return_monthly = Average_Monthly_Return_ASX\n",
    "market_return_annualised = ((1+market_return_monthly)**12) - 1\n",
    "\n",
    "mrp_annualised = market_return_annualised - risk_free_annualised\n",
    "\n",
    "print(risk_free_annualised)\n",
    "print(market_return_annualised)\n",
    "print(\"Average Annualised Return of MRP:\", mrp_annualised)\n",
    "print(\"Average Annuaised Return of MRP (%):\", mrp_annualised*100,\"%\")\n"
   ]
  },
  {
   "cell_type": "markdown",
   "metadata": {},
   "source": [
    "1av. Equity Cost of Capital\n",
    "- Expressed the cost at the annualized rate"
   ]
  },
  {
   "cell_type": "code",
   "execution_count": 11,
   "metadata": {},
   "outputs": [
    {
     "name": "stdout",
     "output_type": "stream",
     "text": [
      "6.776987933447855\n"
     ]
    }
   ],
   "source": [
    "Qantas_Beta = 1.17\n",
    "\n",
    "#Calculation\n",
    "Equity_Cost_of_Capital_Annualized = (risk_free_annualised + Qantas_Beta*(mrp_annualised) ) * 100\n",
    "print(Equity_Cost_of_Capital_Annualized)"
   ]
  },
  {
   "cell_type": "markdown",
   "metadata": {},
   "source": [
    "1avi. Using Current Government Bond Yield\n",
    "- Is this a good suggestion? Discuss"
   ]
  },
  {
   "cell_type": "code",
   "execution_count": 19,
   "metadata": {},
   "outputs": [
    {
     "name": "stdout",
     "output_type": "stream",
     "text": [
      "Equity Cost of Capital with Bond Yield (%): 8.915495933108412\n"
     ]
    }
   ],
   "source": [
    "Government_Bond_Yield_5yr = 0.0364\n",
    "risk_free_bond_yield_5yr = Government_Bond_Yield_5yr\n",
    "#Market Risk Premium risk free is hitorical average \n",
    "#Risk free for the cost of capital is currently one -- 0.0353 rf != rf in MRP\n",
    "Equity_Cost_of_Capital_alternative = (risk_free_bond_yield_5yr + Qantas_Beta*(mrp_annualised))\n",
    "Equity_Cost_of_Capital_alternative_percentage = (risk_free_bond_yield_5yr + Qantas_Beta*(mrp_annualised)) * 100\n",
    "\n",
    "print(\"Equity Cost of Capital with Bond Yield (%):\", Equity_Cost_of_Capital_alternative_percentage)"
   ]
  },
  {
   "cell_type": "markdown",
   "metadata": {},
   "source": [
    "1bi. Weighted Average Cost of Capital\n",
    "- Assumption: The company is risk free"
   ]
  },
  {
   "cell_type": "code",
   "execution_count": 20,
   "metadata": {},
   "outputs": [
    {
     "name": "stdout",
     "output_type": "stream",
     "text": [
      "0.0273\n",
      "29289\n",
      "Weighted Average Cost of Capital (in % without default): 4.629946343455696\n"
     ]
    }
   ],
   "source": [
    "rf = risk_free_bond_yield_5yr\n",
    "equity_beta = Qantas_Beta\n",
    "debt_beta = 0 #assumption\n",
    "\n",
    "re = Equity_Cost_of_Capital_alternative\n",
    "rd = rf\n",
    "\n",
    "#Qantas Market Value Equity and Liabilities\n",
    "Equity_mv = 9019 #in million\n",
    "Liabilities_bookvalue = 20270 #in million\n",
    "Total_Qantas_Value_24 = Equity_mv + Liabilities_bookvalue\n",
    "\n",
    "rd_aftertax = (1 - 0.25) * rd\n",
    "print(rd_aftertax)\n",
    "print(Total_Qantas_Value_24)\n",
    "#Weighted Average Cost of Capital\n",
    "r_wacc_nodefault = (re * (Equity_mv/Total_Qantas_Value_24)) + (rd_aftertax * (Liabilities_bookvalue/Total_Qantas_Value_23))\n",
    "print(\"Weighted Average Cost of Capital (in % without default):\", r_wacc_nodefault*100)\n"
   ]
  },
  {
   "cell_type": "markdown",
   "metadata": {},
   "source": [
    "1bii. Cost of Capital if no debt"
   ]
  },
  {
   "cell_type": "code",
   "execution_count": 18,
   "metadata": {},
   "outputs": [
    {
     "name": "stdout",
     "output_type": "stream",
     "text": [
      "0.0880549593310841\n"
     ]
    }
   ],
   "source": [
    "r_wacc_nodebt = re\n",
    "print(r_wacc_nodebt)"
   ]
  },
  {
   "cell_type": "markdown",
   "metadata": {},
   "source": [
    "1biii. Weighted Average Cost of Capital\n",
    "- Company is not risk-free"
   ]
  },
  {
   "cell_type": "code",
   "execution_count": 15,
   "metadata": {},
   "outputs": [],
   "source": [
    "#Weighted Average Cost of Capital (Default Risk)\n",
    "#Qantas Credit Ratings (S&P / Moody): BB+/B , Baa2 (between Baa and Baa3)"
   ]
  }
 ],
 "metadata": {
  "kernelspec": {
   "display_name": "Python 3",
   "language": "python",
   "name": "python3"
  },
  "language_info": {
   "codemirror_mode": {
    "name": "ipython",
    "version": 3
   },
   "file_extension": ".py",
   "mimetype": "text/x-python",
   "name": "python",
   "nbconvert_exporter": "python",
   "pygments_lexer": "ipython3",
   "version": "3.12.0"
  }
 },
 "nbformat": 4,
 "nbformat_minor": 2
}
